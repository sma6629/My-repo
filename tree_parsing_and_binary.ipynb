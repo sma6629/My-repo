{
  "nbformat": 4,
  "nbformat_minor": 0,
  "metadata": {
    "colab": {
      "name": "tree_parsing_and_binary",
      "provenance": []
    },
    "kernelspec": {
      "name": "python3",
      "display_name": "Python 3"
    }
  },
  "cells": [
    {
      "cell_type": "code",
      "metadata": {
        "id": "IWgdETof_Fdd"
      },
      "source": [
        "class Tree:\n",
        "  def __init__(self, data):\n",
        "    self.left = None\n",
        "    self.right = None\n",
        "    self.data = data\n",
        "\n",
        "  def __str__(self):\n",
        "    return str([str(self.data),[self.left.__str__() if self.left else None],[self.right.__str__() if self.right else None]])\n",
        "\n",
        "  def preorder(self):\n",
        "    print(self.data)\n",
        "    if self.left:\n",
        "      self.left.preorder()\n",
        "    if self.right:\n",
        "      self.right.preorder() \n",
        "\n",
        "  def push_left(self, val):\n",
        "    if self.left:\n",
        "      t = Tree(val)\n",
        "      t.left = self.left\n",
        "      self.left = t\n",
        "    else:\n",
        "      self.left = Tree(val)\n",
        "\n",
        "  def push_right(self,val):\n",
        "    if self.right:\n",
        "      t = Tree(val)\n",
        "      t.right = self.right\n",
        "      self.right = t  \n",
        "    else:\n",
        "      self.right = Tree(val)"
      ],
      "execution_count": null,
      "outputs": []
    },
    {
      "cell_type": "code",
      "metadata": {
        "id": "ygutgvmHAxFC",
        "colab": {
          "base_uri": "https://localhost:8080/"
        },
        "outputId": "ddd5edfe-a14c-48c0-a40d-6120d5999c5f"
      },
      "source": [
        "tree = Tree(1)\n",
        "tree.left  = Tree(2)\n",
        "tree.right = Tree(3)\n",
        "tree.push_left(4)\n",
        "tree.push_right(5)\n",
        "tree.data\n",
        "print(tree)\n",
        "tree.preorder()"
      ],
      "execution_count": null,
      "outputs": [
        {
          "output_type": "stream",
          "name": "stdout",
          "text": [
            "['1', ['[\\'4\\', [\"[\\'2\\', [None], [None]]\"], [None]]'], ['[\\'5\\', [None], [\"[\\'3\\', [None], [None]]\"]]']]\n",
            "1\n",
            "4\n",
            "2\n",
            "5\n",
            "3\n"
          ]
        }
      ]
    },
    {
      "cell_type": "markdown",
      "metadata": {
        "id": "zTUuNEbvgZ2D"
      },
      "source": [
        "1. If the current token is a '(', add a new node as the left child of the current node, and descend to the left child.\n",
        "\n",
        "2. If the current token is in the list ['+','-','/','*'], set the root value of the current node to the operator represented by the current token. Add a new node as the right child of the current node and descend to the right child.\n",
        "\n",
        "3. If the current token is a number, set the root value of the current node to the number and return to the parent.\n",
        "\n",
        "4. If the current token is a ')', go to the parent of the current node."
      ]
    },
    {
      "cell_type": "code",
      "metadata": {
        "id": "wMWKVMNSC-mi"
      },
      "source": [
        "def buildParseTree(expr):\n",
        "  vals = expr.split()\n",
        "  print(vals)\n",
        "  ops = ['+', '-', '*', '/']\n",
        "  fTree = Tree(\"\")\n",
        "  stack = [fTree]\n",
        "  tree = fTree\n",
        "\n",
        "  for v in vals:\n",
        "    print(v)\n",
        "    if v == '(':\n",
        "      # print(v)\n",
        "      tree.push_left('')\n",
        "      stack.append(tree)\n",
        "      # print(tree)\n",
        "      tree = tree.left\n",
        "    \n",
        "    elif v in ops:\n",
        "        print(v)\n",
        "        tree.data = v\n",
        "        tree.push_right('')\n",
        "        stack.append(tree)\n",
        "        tree = tree.right\n",
        "\n",
        "    elif v == ')':\n",
        "        tree = stack.pop()\n",
        "\n",
        "    elif v not in [*ops, ')']:\n",
        "        try:\n",
        "            tree.data = int(v)\n",
        "            parent = stack.pop()\n",
        "            tree = parent\n",
        "\n",
        "        except ValueError:\n",
        "            raise ValueError(\"token '{}' is not a valid integer\".format(i))\n",
        "\n",
        "  return fTree"
      ],
      "execution_count": null,
      "outputs": []
    },
    {
      "cell_type": "code",
      "metadata": {
        "colab": {
          "base_uri": "https://localhost:8080/"
        },
        "id": "_TTgIdsZgDk6",
        "outputId": "953afd73-2aa7-4881-ebcd-f7c4c5d40463"
      },
      "source": [
        "pt = buildParseTree(\"( ( 10 + 5 ) / 3 )\")\n",
        "print(pt)"
      ],
      "execution_count": null,
      "outputs": [
        {
          "output_type": "stream",
          "name": "stdout",
          "text": [
            "['(', '(', '10', '+', '5', ')', '/', '3', ')']\n",
            "(\n",
            "(\n",
            "10\n",
            "+\n",
            "+\n",
            "5\n",
            ")\n",
            "/\n",
            "/\n",
            "3\n",
            ")\n",
            "['/', ['[\\'+\\', [\"[\\'10\\', [None], [None]]\"], [\"[\\'5\\', [None], [None]]\"]]'], [\"['3', [None], [None]]\"]]\n"
          ]
        }
      ]
    },
    {
      "cell_type": "code",
      "metadata": {
        "id": "viRbG3RchZiU"
      },
      "source": [
        "import operator\n",
        "def evaluate(parseTree):\n",
        "    opers = {'+':operator.add, '-':operator.sub, '*':operator.mul, '/':operator.truediv}\n",
        "\n",
        "    leftC = parseTree.left\n",
        "    rightC = parseTree.right\n",
        "\n",
        "    if leftC and rightC:\n",
        "        fn = opers[parseTree.data]\n",
        "        return fn(evaluate(leftC),evaluate(rightC))\n",
        "    else:\n",
        "        return parseTree.data"
      ],
      "execution_count": null,
      "outputs": []
    },
    {
      "cell_type": "code",
      "metadata": {
        "colab": {
          "base_uri": "https://localhost:8080/"
        },
        "id": "thygNUPAhazY",
        "outputId": "d71a7015-5ed4-4db3-ff29-a15a01f29b00"
      },
      "source": [
        "evaluate(pt)"
      ],
      "execution_count": null,
      "outputs": [
        {
          "output_type": "execute_result",
          "data": {
            "text/plain": [
              "5.0"
            ]
          },
          "metadata": {},
          "execution_count": 15
        }
      ]
    },
    {
      "cell_type": "markdown",
      "source": [
        "#Lifted from PSADS book $\\S 7.8$\n",
        "\n",
        "In earlier sections you learned about the first-in first-out data structure called a queue. One important variation of a queue is called a priority queue. A priority queue acts like a queue in that you dequeue an item by removing it from the front. However, in a priority queue the logical order of items inside a queue is determined by their priority. The highest priority items are at the front of the queue and the lowest priority items are at the back. Thus when you enqueue an item on a priority queue, the new item may move all the way to the front. We will see that the priority queue is a useful data structure for some of the graph algorithms we will study in the next chapter.\n",
        "\n",
        "You can probably think of a couple of easy ways to implement a priority queue using sorting functions and lists. However, inserting into a list is $O(n)$  and sorting a list is $O(n\\log n)$ . We can do better. The classic way to implement a priority queue is using a data structure called a 'binary heap'. A binary heap will allow us both enqueue and dequeue items in $O(\\log n)$.\n",
        "\n",
        "The binary heap is interesting to study because when we diagram the heap it looks a lot like a tree, but when we implement it we use only a single list as an internal representation. The binary heap has two common variations: the 'min heap', in which the smallest key is always at the front, and the' max heap', in which the largest key value is always at the front. \n",
        "\n",
        "\n",
        "In order to make our heap work efficiently, we will take advantage of the logarithmic nature of the binary tree to represent our heap. In order to guarantee logarithmic performance, we must keep our tree balanced. A balanced binary tree has roughly the same number of nodes in the left and right subtrees of the root. In our heap implementation we keep the tree balanced by creating a complete binary tree. A complete binary tree is a tree in which each level has all of its nodes. The exception to this is the bottom level of the tree, which we fill in from left to right. Figure 1 shows an example of a complete binary tree.\n",
        "\n",
        "\n",
        "\n",
        "### Notes on heap definitions\n",
        "'heap order property' In a heap, for every node $x$  with parent $p$, the key in $p$ is smaller than or equal to the key in $x$. AKA, kids are more than or equal to their parents\n"
      ],
      "metadata": {
        "id": "0np7VOGcMwwv"
      }
    },
    {
      "cell_type": "code",
      "metadata": {
        "id": "00UAQvYul5Hh"
      },
      "source": [
        "class BinaryHeap:\n",
        "    def __init__(self):\n",
        "        self._heap = []\n",
        "\n",
        "    def _perc_up(self, cur_idx):\n",
        "        while (cur_idx - 1) // 2 >= 0:\n",
        "            parent_idx = (cur_idx - 1) // 2\n",
        "            if self._heap[cur_idx] < self._heap[parent_idx]:\n",
        "                self._heap[cur_idx], self._heap[parent_idx] = (\n",
        "                    self._heap[parent_idx],\n",
        "                    self._heap[cur_idx],\n",
        "                )\n",
        "            cur_idx = parent_idx\n",
        "\n",
        "    def _perc_down(self, cur_idx):\n",
        "        while 2 * cur_idx + 1 < len(self._heap):\n",
        "            min_child_idx = self._get_min_child(cur_idx)\n",
        "            if self._heap[cur_idx] > self._heap[min_child_idx]:\n",
        "                self._heap[cur_idx], self._heap[min_child_idx] = (\n",
        "                    self._heap[min_child_idx],\n",
        "                    self._heap[cur_idx],\n",
        "                )\n",
        "            else:\n",
        "                return\n",
        "            cur_idx = min_child_idx\n",
        "\n",
        "    def _get_min_child(self, parent_idx):\n",
        "        if 2 * parent_idx + 2 > len(self._heap) - 1:\n",
        "            return 2 * parent_idx + 1\n",
        "        if self._heap[2 * parent_idx + 1] < self._heap[2 * parent_idx + 2]:\n",
        "            return 2 * parent_idx + 1\n",
        "        return 2 * parent_idx + 2\n",
        "\n",
        "    def heapify(self, not_a_heap):\n",
        "        self._heap = not_a_heap[:]\n",
        "        cur_idx = len(self._heap) // 2 - 1\n",
        "        while cur_idx >= 0:\n",
        "            self._perc_down(cur_idx)\n",
        "            cur_idx = cur_idx - 1\n",
        "\n",
        "    def get_min(self):\n",
        "        return self._heap[0]\n",
        "\n",
        "    def insert(self, item):\n",
        "        self._heap.append(item)\n",
        "        self._perc_up(len(self._heap) - 1)\n",
        "\n",
        "    def delete(self):\n",
        "        self._heap[0], self._heap[-1] = self._heap[-1], self._heap[0]\n",
        "        result = self._heap.pop()\n",
        "        self._perc_down(0)\n",
        "        return result\n",
        "\n",
        "    def is_empty(self):\n",
        "        return not bool(self._heap)\n",
        "\n",
        "    def __len__(self):\n",
        "        return len(self._heap)\n",
        "\n",
        "    def __str__(self):\n",
        "        return str(self._heap)\n"
      ],
      "execution_count": null,
      "outputs": []
    },
    {
      "cell_type": "code",
      "source": [
        "aheap = BinaryHeap()\n",
        "aheap.heapify([9, 5, 6, 2, 3,11, 15,-1, 13,84])\n",
        "aheap._heap"
      ],
      "metadata": {
        "colab": {
          "base_uri": "https://localhost:8080/"
        },
        "id": "axaBYmPaQL5Q",
        "outputId": "9dda87e9-e1ed-4ede-ebf3-1243a8a5b955"
      },
      "execution_count": null,
      "outputs": [
        {
          "output_type": "execute_result",
          "data": {
            "text/plain": [
              "[0, 1, 2, 3, 4, 5, 6, 7, 8, 9, 10, 11, 12, 13, 14, 15]"
            ]
          },
          "metadata": {},
          "execution_count": 53
        }
      ]
    },
    {
      "cell_type": "code",
      "source": [
        ""
      ],
      "metadata": {
        "id": "4XFZjjlBY8LS"
      },
      "execution_count": null,
      "outputs": []
    },
    {
      "cell_type": "markdown",
      "source": [
        "We say a simple implementation of a 'heap' above and implementaed a class in order to move around and manipulate the tree. But we have not discussed simply using a 'List' container to store our data. If we did, we need to know how to move up and down the tree via indexing. This was alluded to in the prior work, but we can figure it out with more certainity. \n",
        "\n",
        "First, we can look at a generic binary tree that is fully populated for 3 **levels**. "
      ],
      "metadata": {
        "id": "CL_JTPkMY8oA"
      }
    },
    {
      "cell_type": "markdown",
      "source": [
        "There are a few observations we can make based on the structure. We will continure using base zero indexing for consistency with the 'List' container. \n",
        "\n",
        "| level $\\ell$ | nodes numbers  | # of nodes|\n",
        "| :---  | :------------: | ---: |\n",
        "| 0     | 0 | 1|\n",
        "|1| 1, 2| 2|\n",
        "|2| 2, 4, 5, 6| 4|\n",
        "|3| 7, 8, 9, 10, 11, 12, 13, 14| 8|\n",
        "\n",
        "**Observations**\n",
        " * the number of nodes per level is $2^\\ell$\n",
        " * the index of the nodes range from $[2^\\ell -1 \\rightarrow 2^{\\ell +1} -2] = [2^\\ell -1 \\rightarrow 2(2^{\\ell} -1)] $\n",
        " * the parent with index $i$ has children at $(2i+1, 2i+2)$\n",
        " * the child with index $c$ can find its parent at $c//2 -1$\n",
        "\n",
        "\n",
        "\n"
      ],
      "metadata": {
        "id": "ZwSj0AQsZqx_"
      }
    },
    {
      "cell_type": "code",
      "source": [
        "import matplotlib.pyplot as plt\n",
        "import networkx as nx\n",
        "from EoN import hierarchy_pos\n",
        "from numpy import log2\n",
        "\n",
        "G=nx.Graph()\n",
        "simple_bin = list(range(8))\n",
        "levels = int(log2(len(simple_bin)))\n",
        "\n",
        "for i in range(levels):\n",
        "  num_nodes = 2**i\n",
        "  for n in range(num_nodes-1, 2*(num_nodes-1)+1):    \n",
        "    G.add_edges_from([(n, 2*n+1)])\n",
        "    G.add_edges_from([(n, 2*n+2)])\n",
        "\n",
        "pos = hierarchy_pos(G,0)    \n",
        "nx.draw(G, pos=pos, with_labels=True)"
      ],
      "metadata": {
        "colab": {
          "base_uri": "https://localhost:8080/",
          "height": 319
        },
        "id": "4Ux6jDZvP9tf",
        "outputId": "b91fcbbf-877a-4616-dbe2-122fa0dc66da"
      },
      "execution_count": null,
      "outputs": [
        {
          "output_type": "display_data",
          "data": {
            "text/plain": [
              "<Figure size 432x288 with 1 Axes>"
            ],
            "image/png": "[encoded data removed]"
          },
          "metadata": {}
        }
      ]
    },
    {
      "cell_type": "markdown",
      "source": [
        "#QUESTION \n",
        "How does this change if we are implementing a quad-tree (each node has 4 children)?\n",
        "\n",
        "Try to determine in particular:\n",
        "* if a parent is index $p$ what is the index of its four children?\n",
        "* if a child is index $c$ what is the index of its parent?\n",
        "* given a list with distinct nodes to populate the tree, how many levels do we need to go down to place all of them? \n",
        "\n",
        "\n",
        "Modify the above code to plot out a quad-tree with 3 levels."
      ],
      "metadata": {
        "id": "KvhjpDY5b8hZ"
      }
    },
    {
      "cell_type": "code",
      "source": [
        ""
      ],
      "metadata": {
        "id": "O7Y5rJtxV0BI"
      },
      "execution_count": null,
      "outputs": []
    },
    {
      "cell_type": "code",
      "source": [
        ""
      ],
      "metadata": {
        "id": "Ik-0XqjxW8ZH"
      },
      "execution_count": null,
      "outputs": []
    },
    {
      "cell_type": "code",
      "source": [
        ""
      ],
      "metadata": {
        "id": "JE7mmMNanszh"
      },
      "execution_count": null,
      "outputs": []
    }
  ]
}